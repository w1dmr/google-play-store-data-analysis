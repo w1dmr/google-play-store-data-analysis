{
 "cells": [
  {
   "cell_type": "code",
   "execution_count": 1,
   "metadata": {
    "id": "aFwoPXbi6v96",
    "ExecuteTime": {
     "end_time": "2024-05-29T14:34:34.350757Z",
     "start_time": "2024-05-29T14:34:33.853346Z"
    }
   },
   "outputs": [],
   "source": [
    "import pandas as pd"
   ]
  },
  {
   "cell_type": "markdown",
   "metadata": {
    "id": "DoFJFZff6v97"
   },
   "source": [
    "# Знакомство с данными"
   ]
  },
  {
   "cell_type": "markdown",
   "source": [
    "Для анализа будем использовать следующий набор данных: [Google Play Store Apps](https://www.kaggle.com/datasets/lava18/google-play-store-apps). Этот датасет содержит информацию о различных приложениях из магазина Google Play."
   ],
   "metadata": {
    "collapsed": false
   }
  },
  {
   "cell_type": "markdown",
   "source": [
    "![Google Play Store Apps](dataset-cover.jpg)"
   ],
   "metadata": {
    "collapsed": false
   }
  },
  {
   "cell_type": "markdown",
   "metadata": {
    "id": "oWbBkW6M6v98"
   },
   "source": [
    "Загрузим `DataFrame` в переменную `df` и выведем на экран первые пять строк."
   ]
  },
  {
   "cell_type": "code",
   "execution_count": 2,
   "metadata": {
    "id": "colJ3YFa6v99",
    "outputId": "1c4654c5-5fba-49ca-a586-43626879ab03",
    "ExecuteTime": {
     "end_time": "2024-05-29T14:34:34.401527Z",
     "start_time": "2024-05-29T14:34:34.351769Z"
    }
   },
   "outputs": [
    {
     "data": {
      "text/plain": "                                                 app        category  rating  \\\n0     Photo Editor & Candy Camera & Grid & ScrapBook  ART_AND_DESIGN     4.1   \n1                                Coloring book moana  ART_AND_DESIGN     3.9   \n2  U Launcher Lite – FREE Live Cool Themes, Hide ...  ART_AND_DESIGN     4.7   \n3                              Sketch - Draw & Paint  ART_AND_DESIGN     4.5   \n4              Pixel Draw - Number Art Coloring Book  ART_AND_DESIGN     4.3   \n\n  reviews  size     installs  type price content_rating  \\\n0     159   19M      10,000+  Free     0       Everyone   \n1     967   14M     500,000+  Free     0       Everyone   \n2   87510  8.7M   5,000,000+  Free     0       Everyone   \n3  215644   25M  50,000,000+  Free     0           Teen   \n4     967  2.8M     100,000+  Free     0       Everyone   \n\n                      genres      last_updated         current_ver  \\\n0               Art & Design   January 7, 2018               1.0.0   \n1  Art & Design;Pretend Play  January 15, 2018               2.0.0   \n2               Art & Design    August 1, 2018               1.2.4   \n3               Art & Design      June 8, 2018  Varies with device   \n4    Art & Design;Creativity     June 20, 2018                 1.1   \n\n    android_ver  \n0  4.0.3 and up  \n1  4.0.3 and up  \n2  4.0.3 and up  \n3    4.2 and up  \n4    4.4 and up  ",
      "text/html": "<div>\n<style scoped>\n    .dataframe tbody tr th:only-of-type {\n        vertical-align: middle;\n    }\n\n    .dataframe tbody tr th {\n        vertical-align: top;\n    }\n\n    .dataframe thead th {\n        text-align: right;\n    }\n</style>\n<table border=\"1\" class=\"dataframe\">\n  <thead>\n    <tr style=\"text-align: right;\">\n      <th></th>\n      <th>app</th>\n      <th>category</th>\n      <th>rating</th>\n      <th>reviews</th>\n      <th>size</th>\n      <th>installs</th>\n      <th>type</th>\n      <th>price</th>\n      <th>content_rating</th>\n      <th>genres</th>\n      <th>last_updated</th>\n      <th>current_ver</th>\n      <th>android_ver</th>\n    </tr>\n  </thead>\n  <tbody>\n    <tr>\n      <th>0</th>\n      <td>Photo Editor &amp; Candy Camera &amp; Grid &amp; ScrapBook</td>\n      <td>ART_AND_DESIGN</td>\n      <td>4.1</td>\n      <td>159</td>\n      <td>19M</td>\n      <td>10,000+</td>\n      <td>Free</td>\n      <td>0</td>\n      <td>Everyone</td>\n      <td>Art &amp; Design</td>\n      <td>January 7, 2018</td>\n      <td>1.0.0</td>\n      <td>4.0.3 and up</td>\n    </tr>\n    <tr>\n      <th>1</th>\n      <td>Coloring book moana</td>\n      <td>ART_AND_DESIGN</td>\n      <td>3.9</td>\n      <td>967</td>\n      <td>14M</td>\n      <td>500,000+</td>\n      <td>Free</td>\n      <td>0</td>\n      <td>Everyone</td>\n      <td>Art &amp; Design;Pretend Play</td>\n      <td>January 15, 2018</td>\n      <td>2.0.0</td>\n      <td>4.0.3 and up</td>\n    </tr>\n    <tr>\n      <th>2</th>\n      <td>U Launcher Lite – FREE Live Cool Themes, Hide ...</td>\n      <td>ART_AND_DESIGN</td>\n      <td>4.7</td>\n      <td>87510</td>\n      <td>8.7M</td>\n      <td>5,000,000+</td>\n      <td>Free</td>\n      <td>0</td>\n      <td>Everyone</td>\n      <td>Art &amp; Design</td>\n      <td>August 1, 2018</td>\n      <td>1.2.4</td>\n      <td>4.0.3 and up</td>\n    </tr>\n    <tr>\n      <th>3</th>\n      <td>Sketch - Draw &amp; Paint</td>\n      <td>ART_AND_DESIGN</td>\n      <td>4.5</td>\n      <td>215644</td>\n      <td>25M</td>\n      <td>50,000,000+</td>\n      <td>Free</td>\n      <td>0</td>\n      <td>Teen</td>\n      <td>Art &amp; Design</td>\n      <td>June 8, 2018</td>\n      <td>Varies with device</td>\n      <td>4.2 and up</td>\n    </tr>\n    <tr>\n      <th>4</th>\n      <td>Pixel Draw - Number Art Coloring Book</td>\n      <td>ART_AND_DESIGN</td>\n      <td>4.3</td>\n      <td>967</td>\n      <td>2.8M</td>\n      <td>100,000+</td>\n      <td>Free</td>\n      <td>0</td>\n      <td>Everyone</td>\n      <td>Art &amp; Design;Creativity</td>\n      <td>June 20, 2018</td>\n      <td>1.1</td>\n      <td>4.4 and up</td>\n    </tr>\n  </tbody>\n</table>\n</div>"
     },
     "execution_count": 2,
     "metadata": {},
     "output_type": "execute_result"
    }
   ],
   "source": [
    "df = pd.read_csv('./googleplaystore.csv')\n",
    "\n",
    "# Для лучшей читаемости названия столбцов приведем к нижнему регистру и вместо пробелов сделаем нижние подчеркивания\n",
    "df.columns = [wrd.lower().replace(' ', '_') for wrd in list(df.columns)]\n",
    "\n",
    "df.head()"
   ]
  },
  {
   "cell_type": "markdown",
   "metadata": {
    "id": "l0LG7DwW6v99"
   },
   "source": [
    "Отобразим количество строк и столбцов в `DataFrame`."
   ]
  },
  {
   "cell_type": "code",
   "execution_count": 3,
   "metadata": {
    "id": "QKCHptUu6v9-",
    "outputId": "57e618cf-5a91-4cb8-da78-8f8f19b8c2d1",
    "ExecuteTime": {
     "end_time": "2024-05-29T14:34:34.405827Z",
     "start_time": "2024-05-29T14:34:34.401527Z"
    }
   },
   "outputs": [
    {
     "data": {
      "text/plain": "(10841, 13)"
     },
     "execution_count": 3,
     "metadata": {},
     "output_type": "execute_result"
    }
   ],
   "source": [
    "df.shape"
   ]
  },
  {
   "cell_type": "markdown",
   "source": [
    "# Обработка пропусков"
   ],
   "metadata": {
    "collapsed": false
   }
  },
  {
   "cell_type": "markdown",
   "metadata": {
    "id": "Y9_xoE9G6v9-"
   },
   "source": [
    "Выведем основную информацию о `DataFrame` методом `info()` и проанализируем, есть ли пропуски в столбцах."
   ]
  },
  {
   "cell_type": "code",
   "execution_count": 4,
   "metadata": {
    "id": "YArYaUPU6v9-",
    "outputId": "f6925552-3085-45f4-9c34-3baf3366f236",
    "ExecuteTime": {
     "end_time": "2024-05-29T14:34:34.419084Z",
     "start_time": "2024-05-29T14:34:34.406841Z"
    }
   },
   "outputs": [
    {
     "name": "stdout",
     "output_type": "stream",
     "text": [
      "<class 'pandas.core.frame.DataFrame'>\n",
      "RangeIndex: 10841 entries, 0 to 10840\n",
      "Data columns (total 13 columns):\n",
      " #   Column          Non-Null Count  Dtype  \n",
      "---  ------          --------------  -----  \n",
      " 0   app             10841 non-null  object \n",
      " 1   category        10841 non-null  object \n",
      " 2   rating          9367 non-null   float64\n",
      " 3   reviews         10841 non-null  object \n",
      " 4   size            10841 non-null  object \n",
      " 5   installs        10841 non-null  object \n",
      " 6   type            10840 non-null  object \n",
      " 7   price           10841 non-null  object \n",
      " 8   content_rating  10840 non-null  object \n",
      " 9   genres          10841 non-null  object \n",
      " 10  last_updated    10841 non-null  object \n",
      " 11  current_ver     10833 non-null  object \n",
      " 12  android_ver     10838 non-null  object \n",
      "dtypes: float64(1), object(12)\n",
      "memory usage: 1.1+ MB\n"
     ]
    }
   ],
   "source": [
    "df.info()"
   ]
  },
  {
   "cell_type": "markdown",
   "source": [
    "Пропуски содержатся в столбцах: `rating`, `type`, `content_rating`, `current_ver`, `android_ver`."
   ],
   "metadata": {
    "collapsed": false
   }
  },
  {
   "cell_type": "markdown",
   "metadata": {
    "id": "FQwEUPsu6v9-"
   },
   "source": [
    "Заменим пропуски в столбце `rating` с помощью метода `fillna()`. Удаление всех строк с пропусками нецелесообразно, так как в столбце `rating` их слишком много, и это приведет к значительной потере данных. Поэтому заменим все значения `NaN` в столбце `rating` на медианные значения. Все остальные строки с пропусками можно удалить, поскольку их количество незначительно по сравнению с общим числом строк."
   ]
  },
  {
   "cell_type": "code",
   "execution_count": 5,
   "metadata": {
    "id": "-CuqRyJ86v9_",
    "ExecuteTime": {
     "end_time": "2024-05-29T14:34:34.431011Z",
     "start_time": "2024-05-29T14:34:34.419084Z"
    }
   },
   "outputs": [],
   "source": [
    "df.fillna({'rating': df.rating.median()}, inplace=True)\n",
    "\n",
    "df.dropna(inplace=True)\n",
    "\n",
    "# Восстановим правильную индексацию после удаления некоторых строк из датафрейма\n",
    "df.reset_index(drop=True, inplace=True)"
   ]
  },
  {
   "cell_type": "markdown",
   "metadata": {
    "id": "IeH6NIj66v9_"
   },
   "source": [
    "Проверим, нет ли пропусков после произведенной обработки."
   ]
  },
  {
   "cell_type": "code",
   "execution_count": 6,
   "metadata": {
    "id": "L7VW-jNV6v9_",
    "outputId": "990a27b1-1da0-4745-baa0-22301ea0a238",
    "ExecuteTime": {
     "end_time": "2024-05-29T14:34:34.443140Z",
     "start_time": "2024-05-29T14:34:34.431011Z"
    }
   },
   "outputs": [
    {
     "name": "stdout",
     "output_type": "stream",
     "text": [
      "<class 'pandas.core.frame.DataFrame'>\n",
      "RangeIndex: 10829 entries, 0 to 10828\n",
      "Data columns (total 13 columns):\n",
      " #   Column          Non-Null Count  Dtype  \n",
      "---  ------          --------------  -----  \n",
      " 0   app             10829 non-null  object \n",
      " 1   category        10829 non-null  object \n",
      " 2   rating          10829 non-null  float64\n",
      " 3   reviews         10829 non-null  object \n",
      " 4   size            10829 non-null  object \n",
      " 5   installs        10829 non-null  object \n",
      " 6   type            10829 non-null  object \n",
      " 7   price           10829 non-null  object \n",
      " 8   content_rating  10829 non-null  object \n",
      " 9   genres          10829 non-null  object \n",
      " 10  last_updated    10829 non-null  object \n",
      " 11  current_ver     10829 non-null  object \n",
      " 12  android_ver     10829 non-null  object \n",
      "dtypes: float64(1), object(12)\n",
      "memory usage: 1.1+ MB\n"
     ]
    }
   ],
   "source": [
    "df.info()"
   ]
  },
  {
   "cell_type": "markdown",
   "source": [
    "После произведенной обработки пропуски отсутствуют."
   ],
   "metadata": {
    "collapsed": false
   }
  },
  {
   "cell_type": "markdown",
   "source": [
    "# Анализ данных"
   ],
   "metadata": {
    "collapsed": false
   }
  },
  {
   "cell_type": "markdown",
   "source": [
    "Выведем основные статистики по категориальным столбцам и напишем некоторые выводы."
   ],
   "metadata": {
    "collapsed": false
   }
  },
  {
   "cell_type": "code",
   "outputs": [
    {
     "data": {
      "text/plain": "           app category reviews                size    installs   type  price  \\\ncount    10829    10829   10829               10829       10829  10829  10829   \nunique    9648       33    5999                 457          20      2     92   \ntop     ROBLOX   FAMILY       0  Varies with device  1,000,000+   Free      0   \nfreq         9     1968     594                1694        1578  10032  10032   \n\n       content_rating genres    last_updated         current_ver android_ver  \ncount           10829  10829           10829               10829       10829  \nunique              6    119            1376                2831          33  \ntop          Everyone  Tools  August 3, 2018  Varies with device  4.1 and up  \nfreq             8704    840             326                1458        2451  ",
      "text/html": "<div>\n<style scoped>\n    .dataframe tbody tr th:only-of-type {\n        vertical-align: middle;\n    }\n\n    .dataframe tbody tr th {\n        vertical-align: top;\n    }\n\n    .dataframe thead th {\n        text-align: right;\n    }\n</style>\n<table border=\"1\" class=\"dataframe\">\n  <thead>\n    <tr style=\"text-align: right;\">\n      <th></th>\n      <th>app</th>\n      <th>category</th>\n      <th>reviews</th>\n      <th>size</th>\n      <th>installs</th>\n      <th>type</th>\n      <th>price</th>\n      <th>content_rating</th>\n      <th>genres</th>\n      <th>last_updated</th>\n      <th>current_ver</th>\n      <th>android_ver</th>\n    </tr>\n  </thead>\n  <tbody>\n    <tr>\n      <th>count</th>\n      <td>10829</td>\n      <td>10829</td>\n      <td>10829</td>\n      <td>10829</td>\n      <td>10829</td>\n      <td>10829</td>\n      <td>10829</td>\n      <td>10829</td>\n      <td>10829</td>\n      <td>10829</td>\n      <td>10829</td>\n      <td>10829</td>\n    </tr>\n    <tr>\n      <th>unique</th>\n      <td>9648</td>\n      <td>33</td>\n      <td>5999</td>\n      <td>457</td>\n      <td>20</td>\n      <td>2</td>\n      <td>92</td>\n      <td>6</td>\n      <td>119</td>\n      <td>1376</td>\n      <td>2831</td>\n      <td>33</td>\n    </tr>\n    <tr>\n      <th>top</th>\n      <td>ROBLOX</td>\n      <td>FAMILY</td>\n      <td>0</td>\n      <td>Varies with device</td>\n      <td>1,000,000+</td>\n      <td>Free</td>\n      <td>0</td>\n      <td>Everyone</td>\n      <td>Tools</td>\n      <td>August 3, 2018</td>\n      <td>Varies with device</td>\n      <td>4.1 and up</td>\n    </tr>\n    <tr>\n      <th>freq</th>\n      <td>9</td>\n      <td>1968</td>\n      <td>594</td>\n      <td>1694</td>\n      <td>1578</td>\n      <td>10032</td>\n      <td>10032</td>\n      <td>8704</td>\n      <td>840</td>\n      <td>326</td>\n      <td>1458</td>\n      <td>2451</td>\n    </tr>\n  </tbody>\n</table>\n</div>"
     },
     "execution_count": 7,
     "metadata": {},
     "output_type": "execute_result"
    }
   ],
   "source": [
    "df.describe(include=object)"
   ],
   "metadata": {
    "collapsed": false,
    "ExecuteTime": {
     "end_time": "2024-05-29T14:34:34.479549Z",
     "start_time": "2024-05-29T14:34:34.443140Z"
    }
   },
   "execution_count": 7
  },
  {
   "cell_type": "markdown",
   "source": [
    "По данной статистике можно сделать следующие выводы: \n",
    "\n",
    "1) Чаще всего в столбце `app` встречается игровая онлайн-платформа `ROBLOX`.\n",
    "2) В столбце `category` в основном встречается категория для всей семьи.\n",
    "3) Что странно, в столбце `reviews` часто встречаются 0 отзывов. Тут два варианта: либо 0 означает отсутствие информации, либо приложения малоизвестные.\n",
    "4) Размер многих приложений зависит от конкретного устройства.\n",
    "5) Большинство приложений имеют более 1.000.000 установок.\n",
    "6) Приложения в основном бесплатные.\n",
    "7) Возрастная группа чаще всего `everyone`, то есть для всех.\n",
    "8) В датафрейме часто встречаются инструменты.\n",
    "9) Большинство приложений были последний раз обновлены в 2018 году.\n",
    "10) У многих приложений текущая версия зависит от конкретного устройства.\n",
    "11) Минимальные системные требования для большинства приложений от 4.1 версии андроид и выше."
   ],
   "metadata": {
    "collapsed": false
   }
  },
  {
   "cell_type": "markdown",
   "source": [
    "Заметим, что в столбце `price` содержатся строки, а не числовые значения. Преобразуем тип `object` в тип `float` и уберем символ доллара ($) в начале."
   ],
   "metadata": {
    "collapsed": false
   }
  },
  {
   "cell_type": "code",
   "outputs": [
    {
     "data": {
      "text/plain": "array(['0', '$4.99', '$3.99', '$6.99', '$1.49', '$2.99', '$7.99', '$5.99',\n       '$3.49', '$1.99', '$9.99', '$7.49', '$0.99', '$9.00', '$5.49',\n       '$10.00', '$24.99', '$11.99', '$79.99', '$16.99', '$14.99',\n       '$1.00', '$29.99', '$12.99', '$2.49', '$10.99', '$1.50', '$19.99',\n       '$15.99', '$33.99', '$74.99', '$39.99', '$3.95', '$4.49', '$1.70',\n       '$8.99', '$2.00', '$3.88', '$25.99', '$399.99', '$17.99',\n       '$400.00', '$3.02', '$1.76', '$4.84', '$4.77', '$1.61', '$2.50',\n       '$1.59', '$6.49', '$1.29', '$5.00', '$13.99', '$299.99', '$379.99',\n       '$37.99', '$18.99', '$389.99', '$19.90', '$8.49', '$1.75',\n       '$14.00', '$4.85', '$46.99', '$109.99', '$154.99', '$3.08',\n       '$2.59', '$4.80', '$1.96', '$19.40', '$3.90', '$4.59', '$15.46',\n       '$3.04', '$4.29', '$2.60', '$3.28', '$4.60', '$28.99', '$2.95',\n       '$2.90', '$1.97', '$200.00', '$89.99', '$2.56', '$30.99', '$3.61',\n       '$394.99', '$1.26', '$1.20', '$1.04'], dtype=object)"
     },
     "execution_count": 8,
     "metadata": {},
     "output_type": "execute_result"
    }
   ],
   "source": [
    "df.price.unique()"
   ],
   "metadata": {
    "collapsed": false,
    "ExecuteTime": {
     "end_time": "2024-05-29T14:34:34.484553Z",
     "start_time": "2024-05-29T14:34:34.479549Z"
    }
   },
   "execution_count": 8
  },
  {
   "cell_type": "code",
   "outputs": [],
   "source": [
    "df['price'] = df['price'].str.replace('$', '').astype(float)"
   ],
   "metadata": {
    "collapsed": false,
    "ExecuteTime": {
     "end_time": "2024-05-29T14:34:34.492811Z",
     "start_time": "2024-05-29T14:34:34.485562Z"
    }
   },
   "execution_count": 9
  },
  {
   "cell_type": "markdown",
   "metadata": {
    "id": "l_eZeEPy6v9_"
   },
   "source": [
    "Выведем на экран минимум и максимум из столбца `price`."
   ]
  },
  {
   "cell_type": "code",
   "execution_count": 10,
   "metadata": {
    "id": "k5T-LoAN6v9_",
    "outputId": "4c7208c2-e785-4582-a392-e8efe2eecae9",
    "ExecuteTime": {
     "end_time": "2024-05-29T14:34:34.499614Z",
     "start_time": "2024-05-29T14:34:34.494822Z"
    }
   },
   "outputs": [
    {
     "name": "stdout",
     "output_type": "stream",
     "text": [
      "Минимальный элемент в столбце price равен 0.0\n",
      "Максимальный элемент в столбце price равен 400.0\n"
     ]
    }
   ],
   "source": [
    "print(f'Минимальный элемент в столбце price равен {df.price.min()}')\n",
    "print(f'Максимальный элемент в столбце price равен {df.price.max()}')"
   ]
  },
  {
   "cell_type": "markdown",
   "metadata": {
    "id": "Fr7ovq466v-A"
   },
   "source": [
    "Выведем на экран медиану и среднее арифметическое столбцов `rating` и `reviews`. Важно отметить, что столбец `reviews` тоже содержит строковые значения, а не числовые. Чтобы вычислить среднее арифметическое, необходимо преобразовать тип `object` в `int`."
   ]
  },
  {
   "cell_type": "code",
   "execution_count": 11,
   "metadata": {
    "id": "njFMyh8U6v-A",
    "outputId": "40a434cb-e560-4bd7-8ad1-2296b58e8cf3",
    "ExecuteTime": {
     "end_time": "2024-05-29T14:34:34.507631Z",
     "start_time": "2024-05-29T14:34:34.500627Z"
    }
   },
   "outputs": [
    {
     "name": "stdout",
     "output_type": "stream",
     "text": [
      "Медиана и среднее арифметическое столбца rating равны (4.3, 4.21)\n",
      "Медиана и среднее арифметическое столбца reviews равны (2100.0, 444601.77)\n"
     ]
    }
   ],
   "source": [
    "df.reviews = df.reviews.astype(int)\n",
    "\n",
    "print(f'Медиана и среднее арифметическое столбца rating равны {df.rating.median(), df.rating.mean().round(2)}')\n",
    "print(f'Медиана и среднее арифметическое столбца reviews равны {df.reviews.median(), df.reviews.mean().round(2)}')"
   ]
  },
  {
   "cell_type": "markdown",
   "source": [
    "Такое большое различие между `median` и `mean` в столбце `reviews` связано, скорее всего, с выбросами (то есть значениями, сильно отличающимися от остальных)."
   ],
   "metadata": {
    "collapsed": false
   }
  },
  {
   "cell_type": "markdown",
   "metadata": {
    "id": "IfWZPE8h6v-A"
   },
   "source": [
    "Выведем на экран все уникальные значения категориального столбца `genres`."
   ]
  },
  {
   "cell_type": "code",
   "execution_count": 12,
   "metadata": {
    "id": "ruHoTgZr6v-A",
    "outputId": "6d81e7fd-e4bd-4f03-ac0b-5d93f6290c84",
    "ExecuteTime": {
     "end_time": "2024-05-29T14:34:34.513389Z",
     "start_time": "2024-05-29T14:34:34.508135Z"
    }
   },
   "outputs": [
    {
     "data": {
      "text/plain": "array(['Art & Design', 'Art & Design;Pretend Play',\n       'Art & Design;Creativity', 'Art & Design;Action & Adventure',\n       'Auto & Vehicles', 'Beauty', 'Books & Reference', 'Business',\n       'Comics', 'Comics;Creativity', 'Communication', 'Dating',\n       'Education;Education', 'Education', 'Education;Creativity',\n       'Education;Music & Video', 'Education;Action & Adventure',\n       'Education;Pretend Play', 'Education;Brain Games', 'Entertainment',\n       'Entertainment;Music & Video', 'Entertainment;Brain Games',\n       'Entertainment;Creativity', 'Events', 'Finance', 'Food & Drink',\n       'Health & Fitness', 'House & Home', 'Libraries & Demo',\n       'Lifestyle', 'Lifestyle;Pretend Play',\n       'Adventure;Action & Adventure', 'Arcade', 'Casual', 'Card',\n       'Casual;Pretend Play', 'Action', 'Strategy', 'Puzzle', 'Sports',\n       'Music', 'Word', 'Racing', 'Casual;Creativity',\n       'Casual;Action & Adventure', 'Simulation', 'Adventure', 'Board',\n       'Trivia', 'Role Playing', 'Simulation;Education',\n       'Action;Action & Adventure', 'Casual;Brain Games',\n       'Simulation;Action & Adventure', 'Educational;Creativity',\n       'Puzzle;Brain Games', 'Educational;Education', 'Card;Brain Games',\n       'Educational;Brain Games', 'Educational;Pretend Play',\n       'Entertainment;Education', 'Casual;Education',\n       'Music;Music & Video', 'Racing;Action & Adventure',\n       'Arcade;Pretend Play', 'Role Playing;Action & Adventure',\n       'Simulation;Pretend Play', 'Puzzle;Creativity',\n       'Sports;Action & Adventure', 'Educational;Action & Adventure',\n       'Arcade;Action & Adventure', 'Entertainment;Action & Adventure',\n       'Puzzle;Action & Adventure', 'Strategy;Action & Adventure',\n       'Music & Audio;Music & Video', 'Health & Fitness;Education',\n       'Adventure;Education', 'Board;Brain Games',\n       'Board;Action & Adventure', 'Board;Pretend Play',\n       'Casual;Music & Video', 'Role Playing;Pretend Play',\n       'Entertainment;Pretend Play', 'Video Players & Editors;Creativity',\n       'Card;Action & Adventure', 'Medical', 'Social', 'Shopping',\n       'Photography', 'Travel & Local',\n       'Travel & Local;Action & Adventure', 'Tools', 'Tools;Education',\n       'Personalization', 'Productivity', 'Parenting',\n       'Parenting;Music & Video', 'Parenting;Education',\n       'Parenting;Brain Games', 'Weather', 'Video Players & Editors',\n       'Video Players & Editors;Music & Video', 'News & Magazines',\n       'Maps & Navigation', 'Health & Fitness;Action & Adventure',\n       'Educational', 'Casino', 'Adventure;Brain Games',\n       'Trivia;Education', 'Lifestyle;Education',\n       'Books & Reference;Creativity', 'Books & Reference;Education',\n       'Puzzle;Education', 'Role Playing;Education',\n       'Role Playing;Brain Games', 'Strategy;Education',\n       'Racing;Pretend Play', 'Communication;Creativity',\n       'Strategy;Creativity'], dtype=object)"
     },
     "execution_count": 12,
     "metadata": {},
     "output_type": "execute_result"
    }
   ],
   "source": [
    "df.genres.unique()"
   ]
  },
  {
   "cell_type": "markdown",
   "metadata": {
    "id": "oTDxLrLC6v-A"
   },
   "source": [
    "Сгруппируем данные по столбцу `genres` и посчитаем для каждого жанра средний и медианный рейтинг. Представим результат в виде нового `DataFrame`, который будет сохранен в переменную `grouped_df`, где одна колонка будет содержать названия жанров, а две другие будут содержать в себе средний и медианный рейтинги."
   ]
  },
  {
   "cell_type": "code",
   "execution_count": 13,
   "metadata": {
    "id": "K4xqNzqo6v-B",
    "outputId": "de836891-1c51-4e40-96fa-ec8f9f73e840",
    "ExecuteTime": {
     "end_time": "2024-05-29T14:34:34.526700Z",
     "start_time": "2024-05-29T14:34:34.514401Z"
    }
   },
   "outputs": [
    {
     "data": {
      "text/plain": "                                    genres  mean_rating  median_rating\n0                                   Action     4.285753            4.3\n1                Action;Action & Adventure     4.311765            4.3\n2                                Adventure     4.184000            4.3\n3             Adventure;Action & Adventure     4.423077            4.5\n4                    Adventure;Brain Games     4.600000            4.6\n..                                     ...          ...            ...\n114                Video Players & Editors     4.084393            4.3\n115     Video Players & Editors;Creativity     4.100000            4.1\n116  Video Players & Editors;Music & Video     4.000000            4.0\n117                                Weather     4.248780            4.3\n118                                   Word     4.406897            4.4\n\n[119 rows x 3 columns]",
      "text/html": "<div>\n<style scoped>\n    .dataframe tbody tr th:only-of-type {\n        vertical-align: middle;\n    }\n\n    .dataframe tbody tr th {\n        vertical-align: top;\n    }\n\n    .dataframe thead th {\n        text-align: right;\n    }\n</style>\n<table border=\"1\" class=\"dataframe\">\n  <thead>\n    <tr style=\"text-align: right;\">\n      <th></th>\n      <th>genres</th>\n      <th>mean_rating</th>\n      <th>median_rating</th>\n    </tr>\n  </thead>\n  <tbody>\n    <tr>\n      <th>0</th>\n      <td>Action</td>\n      <td>4.285753</td>\n      <td>4.3</td>\n    </tr>\n    <tr>\n      <th>1</th>\n      <td>Action;Action &amp; Adventure</td>\n      <td>4.311765</td>\n      <td>4.3</td>\n    </tr>\n    <tr>\n      <th>2</th>\n      <td>Adventure</td>\n      <td>4.184000</td>\n      <td>4.3</td>\n    </tr>\n    <tr>\n      <th>3</th>\n      <td>Adventure;Action &amp; Adventure</td>\n      <td>4.423077</td>\n      <td>4.5</td>\n    </tr>\n    <tr>\n      <th>4</th>\n      <td>Adventure;Brain Games</td>\n      <td>4.600000</td>\n      <td>4.6</td>\n    </tr>\n    <tr>\n      <th>...</th>\n      <td>...</td>\n      <td>...</td>\n      <td>...</td>\n    </tr>\n    <tr>\n      <th>114</th>\n      <td>Video Players &amp; Editors</td>\n      <td>4.084393</td>\n      <td>4.3</td>\n    </tr>\n    <tr>\n      <th>115</th>\n      <td>Video Players &amp; Editors;Creativity</td>\n      <td>4.100000</td>\n      <td>4.1</td>\n    </tr>\n    <tr>\n      <th>116</th>\n      <td>Video Players &amp; Editors;Music &amp; Video</td>\n      <td>4.000000</td>\n      <td>4.0</td>\n    </tr>\n    <tr>\n      <th>117</th>\n      <td>Weather</td>\n      <td>4.248780</td>\n      <td>4.3</td>\n    </tr>\n    <tr>\n      <th>118</th>\n      <td>Word</td>\n      <td>4.406897</td>\n      <td>4.4</td>\n    </tr>\n  </tbody>\n</table>\n<p>119 rows × 3 columns</p>\n</div>"
     },
     "execution_count": 13,
     "metadata": {},
     "output_type": "execute_result"
    }
   ],
   "source": [
    "grouped_df = df.groupby(by='genres', as_index=False).agg(mean_rating=('rating', 'mean'),\n",
    "                                                         median_rating=('rating', 'median'))\n",
    "\n",
    "grouped_df"
   ]
  },
  {
   "cell_type": "markdown",
   "metadata": {
    "id": "bXP0dPNt6v-B"
   },
   "source": [
    "Из получившегося датафрейма выведем на экран только те жанры, чей медианный рейтинг больше 4.5."
   ]
  },
  {
   "cell_type": "code",
   "execution_count": 14,
   "metadata": {
    "id": "9oKAzukP6v-B",
    "outputId": "9d4a8646-a599-47ce-d1f6-a9c5e17ef947",
    "ExecuteTime": {
     "end_time": "2024-05-29T14:34:34.535023Z",
     "start_time": "2024-05-29T14:34:34.526700Z"
    }
   },
   "outputs": [
    {
     "data": {
      "text/plain": "                          genres  mean_rating  median_rating\n4          Adventure;Brain Games     4.600000            4.6\n11       Art & Design;Creativity     4.400000            4.7\n18            Board;Pretend Play     4.800000            4.8\n35             Comics;Creativity     4.800000            4.8\n55      Entertainment;Creativity     4.533333            4.6\n64    Health & Fitness;Education     4.700000            4.7\n74           Music;Music & Video     4.533333            4.6\n87              Puzzle;Education     4.600000            4.6\n105  Strategy;Action & Adventure     4.600000            4.6",
      "text/html": "<div>\n<style scoped>\n    .dataframe tbody tr th:only-of-type {\n        vertical-align: middle;\n    }\n\n    .dataframe tbody tr th {\n        vertical-align: top;\n    }\n\n    .dataframe thead th {\n        text-align: right;\n    }\n</style>\n<table border=\"1\" class=\"dataframe\">\n  <thead>\n    <tr style=\"text-align: right;\">\n      <th></th>\n      <th>genres</th>\n      <th>mean_rating</th>\n      <th>median_rating</th>\n    </tr>\n  </thead>\n  <tbody>\n    <tr>\n      <th>4</th>\n      <td>Adventure;Brain Games</td>\n      <td>4.600000</td>\n      <td>4.6</td>\n    </tr>\n    <tr>\n      <th>11</th>\n      <td>Art &amp; Design;Creativity</td>\n      <td>4.400000</td>\n      <td>4.7</td>\n    </tr>\n    <tr>\n      <th>18</th>\n      <td>Board;Pretend Play</td>\n      <td>4.800000</td>\n      <td>4.8</td>\n    </tr>\n    <tr>\n      <th>35</th>\n      <td>Comics;Creativity</td>\n      <td>4.800000</td>\n      <td>4.8</td>\n    </tr>\n    <tr>\n      <th>55</th>\n      <td>Entertainment;Creativity</td>\n      <td>4.533333</td>\n      <td>4.6</td>\n    </tr>\n    <tr>\n      <th>64</th>\n      <td>Health &amp; Fitness;Education</td>\n      <td>4.700000</td>\n      <td>4.7</td>\n    </tr>\n    <tr>\n      <th>74</th>\n      <td>Music;Music &amp; Video</td>\n      <td>4.533333</td>\n      <td>4.6</td>\n    </tr>\n    <tr>\n      <th>87</th>\n      <td>Puzzle;Education</td>\n      <td>4.600000</td>\n      <td>4.6</td>\n    </tr>\n    <tr>\n      <th>105</th>\n      <td>Strategy;Action &amp; Adventure</td>\n      <td>4.600000</td>\n      <td>4.6</td>\n    </tr>\n  </tbody>\n</table>\n</div>"
     },
     "execution_count": 14,
     "metadata": {},
     "output_type": "execute_result"
    }
   ],
   "source": [
    "mask = grouped_df.median_rating > 4.5\n",
    "\n",
    "grouped_df[mask]"
   ]
  },
  {
   "cell_type": "markdown",
   "source": [
    "Из этого можно заключить, что пользователи предпочитают настольные игры, комиксы, а также приложения для спорта, обучения и творчества."
   ],
   "metadata": {
    "collapsed": false
   }
  },
  {
   "cell_type": "markdown",
   "metadata": {
    "id": "Owvd4gOu6v-B"
   },
   "source": [
    "Выведем количество дубликатов в основном `DataFrame` и удалим их."
   ]
  },
  {
   "cell_type": "code",
   "execution_count": 15,
   "metadata": {
    "id": "J71WVQYw6v-B",
    "outputId": "c32b51b9-fe5a-42ca-cb2a-b2d28fc105f6",
    "ExecuteTime": {
     "end_time": "2024-05-29T14:34:34.557777Z",
     "start_time": "2024-05-29T14:34:34.535023Z"
    }
   },
   "outputs": [
    {
     "name": "stdout",
     "output_type": "stream",
     "text": [
      "Количество дубликатов: 483\n"
     ]
    }
   ],
   "source": [
    "print(f'Количество дубликатов: {df.duplicated().sum()}')\n",
    "\n",
    "df.drop_duplicates(inplace=True)"
   ]
  },
  {
   "cell_type": "markdown",
   "metadata": {
    "id": "Wza7hId16v-C"
   },
   "source": [
    "Посчитаем, какое количество игр содержится в каждом жанре. Выведем на экран топ-10 игр по количеству в жанре."
   ]
  },
  {
   "cell_type": "code",
   "execution_count": 16,
   "metadata": {
    "id": "s3xLMMsA6v-C",
    "outputId": "3e029932-b341-4b42-ef2a-4b08aa6a353e",
    "ExecuteTime": {
     "end_time": "2024-05-29T14:34:34.564186Z",
     "start_time": "2024-05-29T14:34:34.557777Z"
    }
   },
   "outputs": [
    {
     "data": {
      "text/plain": "genres\nAction       356\nArcade       218\nRacing        98\nAdventure     75\nCard          48\nBoard         44\nCasual        43\nCasino        39\nPuzzle        38\nTrivia        38\nName: count, dtype: int64"
     },
     "execution_count": 16,
     "metadata": {},
     "output_type": "execute_result"
    }
   ],
   "source": [
    "df.loc[df['category'] == 'GAME', 'genres'].value_counts().head(10)"
   ]
  },
  {
   "cell_type": "markdown",
   "source": [
    "В Google Play наибольшее количество игр создано в таких жанрах как: экшен, аркада, гонки, адвенчуры, карточные игры."
   ],
   "metadata": {
    "collapsed": false
   }
  },
  {
   "cell_type": "markdown",
   "source": [
    "Выведем на экран часть датафрейма, который соответствует условию: `приложение из категории искусства и дизайна` и `с рейтингом больше 4.5`."
   ],
   "metadata": {
    "collapsed": false
   }
  },
  {
   "cell_type": "code",
   "outputs": [
    {
     "data": {
      "text/plain": "                                                  app        category  rating  \\\n2   U Launcher Lite – FREE Live Cool Themes, Hide ...  ART_AND_DESIGN     4.7   \n9                       Kids Paint Free - Drawing Fun  ART_AND_DESIGN     4.7   \n13                              Mandala Coloring Book  ART_AND_DESIGN     4.6   \n15       Photo Designer - Write your name with shapes  ART_AND_DESIGN     4.7   \n18                                       ibis Paint X  ART_AND_DESIGN     4.6   \n\n    reviews  size     installs  type  price content_rating  \\\n2     87510  8.7M   5,000,000+  Free    0.0       Everyone   \n9       121  3.1M      10,000+  Free    0.0       Everyone   \n13     4326   21M     100,000+  Free    0.0       Everyone   \n15     3632  5.5M     500,000+  Free    0.0       Everyone   \n18   224399   31M  10,000,000+  Free    0.0       Everyone   \n\n                     genres    last_updated current_ver   android_ver  \n2              Art & Design  August 1, 2018       1.2.4  4.0.3 and up  \n9   Art & Design;Creativity    July 3, 2018         2.8  4.0.3 and up  \n13             Art & Design   June 26, 2018       1.0.4    4.4 and up  \n15             Art & Design   July 31, 2018         3.1    4.1 and up  \n18             Art & Design   July 30, 2018       5.5.4    4.1 and up  ",
      "text/html": "<div>\n<style scoped>\n    .dataframe tbody tr th:only-of-type {\n        vertical-align: middle;\n    }\n\n    .dataframe tbody tr th {\n        vertical-align: top;\n    }\n\n    .dataframe thead th {\n        text-align: right;\n    }\n</style>\n<table border=\"1\" class=\"dataframe\">\n  <thead>\n    <tr style=\"text-align: right;\">\n      <th></th>\n      <th>app</th>\n      <th>category</th>\n      <th>rating</th>\n      <th>reviews</th>\n      <th>size</th>\n      <th>installs</th>\n      <th>type</th>\n      <th>price</th>\n      <th>content_rating</th>\n      <th>genres</th>\n      <th>last_updated</th>\n      <th>current_ver</th>\n      <th>android_ver</th>\n    </tr>\n  </thead>\n  <tbody>\n    <tr>\n      <th>2</th>\n      <td>U Launcher Lite – FREE Live Cool Themes, Hide ...</td>\n      <td>ART_AND_DESIGN</td>\n      <td>4.7</td>\n      <td>87510</td>\n      <td>8.7M</td>\n      <td>5,000,000+</td>\n      <td>Free</td>\n      <td>0.0</td>\n      <td>Everyone</td>\n      <td>Art &amp; Design</td>\n      <td>August 1, 2018</td>\n      <td>1.2.4</td>\n      <td>4.0.3 and up</td>\n    </tr>\n    <tr>\n      <th>9</th>\n      <td>Kids Paint Free - Drawing Fun</td>\n      <td>ART_AND_DESIGN</td>\n      <td>4.7</td>\n      <td>121</td>\n      <td>3.1M</td>\n      <td>10,000+</td>\n      <td>Free</td>\n      <td>0.0</td>\n      <td>Everyone</td>\n      <td>Art &amp; Design;Creativity</td>\n      <td>July 3, 2018</td>\n      <td>2.8</td>\n      <td>4.0.3 and up</td>\n    </tr>\n    <tr>\n      <th>13</th>\n      <td>Mandala Coloring Book</td>\n      <td>ART_AND_DESIGN</td>\n      <td>4.6</td>\n      <td>4326</td>\n      <td>21M</td>\n      <td>100,000+</td>\n      <td>Free</td>\n      <td>0.0</td>\n      <td>Everyone</td>\n      <td>Art &amp; Design</td>\n      <td>June 26, 2018</td>\n      <td>1.0.4</td>\n      <td>4.4 and up</td>\n    </tr>\n    <tr>\n      <th>15</th>\n      <td>Photo Designer - Write your name with shapes</td>\n      <td>ART_AND_DESIGN</td>\n      <td>4.7</td>\n      <td>3632</td>\n      <td>5.5M</td>\n      <td>500,000+</td>\n      <td>Free</td>\n      <td>0.0</td>\n      <td>Everyone</td>\n      <td>Art &amp; Design</td>\n      <td>July 31, 2018</td>\n      <td>3.1</td>\n      <td>4.1 and up</td>\n    </tr>\n    <tr>\n      <th>18</th>\n      <td>ibis Paint X</td>\n      <td>ART_AND_DESIGN</td>\n      <td>4.6</td>\n      <td>224399</td>\n      <td>31M</td>\n      <td>10,000,000+</td>\n      <td>Free</td>\n      <td>0.0</td>\n      <td>Everyone</td>\n      <td>Art &amp; Design</td>\n      <td>July 30, 2018</td>\n      <td>5.5.4</td>\n      <td>4.1 and up</td>\n    </tr>\n  </tbody>\n</table>\n</div>"
     },
     "execution_count": 17,
     "metadata": {},
     "output_type": "execute_result"
    }
   ],
   "source": [
    "mask = (df.category == 'ART_AND_DESIGN') & (df.rating > 4.5)\n",
    "\n",
    "df[mask].head()"
   ],
   "metadata": {
    "collapsed": false,
    "ExecuteTime": {
     "end_time": "2024-05-29T14:34:34.577732Z",
     "start_time": "2024-05-29T14:34:34.565197Z"
    }
   },
   "execution_count": 17
  },
  {
   "cell_type": "markdown",
   "source": [
    "Посчитаем, какое количество приложений содержится в рейтинге, используя параметр разбиения (`bins`), равный 100. Выведем на экран топ-10 игр по количеству в рейтинге."
   ],
   "metadata": {
    "collapsed": false
   }
  },
  {
   "cell_type": "code",
   "outputs": [
    {
     "data": {
      "text/plain": "(4.28, 4.32]    195\n(4.48, 4.52]    169\n(4.36, 4.4]     162\n(4.16, 4.2]     115\n(4.56, 4.6]     113\n(4.08, 4.12]     72\n(4.68, 4.72]     65\n(3.96, 4.0]      55\n(3.76, 3.8]      41\n(3.88, 3.92]     35\nName: count, dtype: int64"
     },
     "execution_count": 18,
     "metadata": {},
     "output_type": "execute_result"
    }
   ],
   "source": [
    "df.loc[df['category'] == 'GAME'].rating.value_counts(bins=100).head(10)"
   ],
   "metadata": {
    "collapsed": false,
    "ExecuteTime": {
     "end_time": "2024-05-29T14:34:34.590929Z",
     "start_time": "2024-05-29T14:34:34.578237Z"
    }
   },
   "execution_count": 18
  },
  {
   "cell_type": "markdown",
   "source": [
    "Большинство игр имеют рейтинг от 4.28 до 4.32."
   ],
   "metadata": {
    "collapsed": false
   }
  },
  {
   "cell_type": "markdown",
   "source": [
    "Создадим функцию, которая будет применена к столбцу рейтинг методом `apply()`.\n",
    "\n",
    "Функция должна принимать строку с рейтингом и возвращать:\n",
    "1) `High rating`, если рейтинг больше или равен 4.5.\n",
    "2) `Middle rating`, если рейтинг между 3.8 и 4.5.\n",
    "3) `Low rating`, если рейтинг меньше 3.8.\n",
    "\n",
    "Результат работы функции запишем в новый столбец с названием `categorical_rating`."
   ],
   "metadata": {
    "collapsed": false
   }
  },
  {
   "cell_type": "code",
   "outputs": [
    {
     "data": {
      "text/plain": "                                                  app   category  rating  \\\n1575                     Family Locator - GPS Tracker  LIFESTYLE     4.4   \n6494                                         Radio BN     FAMILY     4.3   \n9631                                       Chess Free       GAME     4.5   \n4972  WeatherClear - Ad-free Weather, Minute forecast    WEATHER     4.5   \n8582                                          DN Blog     SOCIAL     5.0   \n\n      reviews  size     installs  type  price content_rating         genres  \\\n1575   726074   45M  10,000,000+  Free    0.0       Everyone      Lifestyle   \n6494       53  4.2M       5,000+  Free    0.0       Everyone  Entertainment   \n9631  1375988   15M  50,000,000+  Free    0.0       Everyone          Board   \n4972     3252  3.8M      50,000+  Free    0.0       Everyone        Weather   \n8582       20  4.2M          10+  Free    0.0           Teen         Social   \n\n          last_updated current_ver android_ver categorical_rating  \n1575    August 2, 2018      16.7.1  4.4 and up      Middle rating  \n6494  January 12, 2018       1.0.3  4.4 and up      Middle rating  \n9631      June 7, 2018        2.72  4.1 and up        High rating  \n4972     June 25, 2017       1.2.6  4.1 and up        High rating  \n8582     July 23, 2018         1.0  4.0 and up        High rating  ",
      "text/html": "<div>\n<style scoped>\n    .dataframe tbody tr th:only-of-type {\n        vertical-align: middle;\n    }\n\n    .dataframe tbody tr th {\n        vertical-align: top;\n    }\n\n    .dataframe thead th {\n        text-align: right;\n    }\n</style>\n<table border=\"1\" class=\"dataframe\">\n  <thead>\n    <tr style=\"text-align: right;\">\n      <th></th>\n      <th>app</th>\n      <th>category</th>\n      <th>rating</th>\n      <th>reviews</th>\n      <th>size</th>\n      <th>installs</th>\n      <th>type</th>\n      <th>price</th>\n      <th>content_rating</th>\n      <th>genres</th>\n      <th>last_updated</th>\n      <th>current_ver</th>\n      <th>android_ver</th>\n      <th>categorical_rating</th>\n    </tr>\n  </thead>\n  <tbody>\n    <tr>\n      <th>1575</th>\n      <td>Family Locator - GPS Tracker</td>\n      <td>LIFESTYLE</td>\n      <td>4.4</td>\n      <td>726074</td>\n      <td>45M</td>\n      <td>10,000,000+</td>\n      <td>Free</td>\n      <td>0.0</td>\n      <td>Everyone</td>\n      <td>Lifestyle</td>\n      <td>August 2, 2018</td>\n      <td>16.7.1</td>\n      <td>4.4 and up</td>\n      <td>Middle rating</td>\n    </tr>\n    <tr>\n      <th>6494</th>\n      <td>Radio BN</td>\n      <td>FAMILY</td>\n      <td>4.3</td>\n      <td>53</td>\n      <td>4.2M</td>\n      <td>5,000+</td>\n      <td>Free</td>\n      <td>0.0</td>\n      <td>Everyone</td>\n      <td>Entertainment</td>\n      <td>January 12, 2018</td>\n      <td>1.0.3</td>\n      <td>4.4 and up</td>\n      <td>Middle rating</td>\n    </tr>\n    <tr>\n      <th>9631</th>\n      <td>Chess Free</td>\n      <td>GAME</td>\n      <td>4.5</td>\n      <td>1375988</td>\n      <td>15M</td>\n      <td>50,000,000+</td>\n      <td>Free</td>\n      <td>0.0</td>\n      <td>Everyone</td>\n      <td>Board</td>\n      <td>June 7, 2018</td>\n      <td>2.72</td>\n      <td>4.1 and up</td>\n      <td>High rating</td>\n    </tr>\n    <tr>\n      <th>4972</th>\n      <td>WeatherClear - Ad-free Weather, Minute forecast</td>\n      <td>WEATHER</td>\n      <td>4.5</td>\n      <td>3252</td>\n      <td>3.8M</td>\n      <td>50,000+</td>\n      <td>Free</td>\n      <td>0.0</td>\n      <td>Everyone</td>\n      <td>Weather</td>\n      <td>June 25, 2017</td>\n      <td>1.2.6</td>\n      <td>4.1 and up</td>\n      <td>High rating</td>\n    </tr>\n    <tr>\n      <th>8582</th>\n      <td>DN Blog</td>\n      <td>SOCIAL</td>\n      <td>5.0</td>\n      <td>20</td>\n      <td>4.2M</td>\n      <td>10+</td>\n      <td>Free</td>\n      <td>0.0</td>\n      <td>Teen</td>\n      <td>Social</td>\n      <td>July 23, 2018</td>\n      <td>1.0</td>\n      <td>4.0 and up</td>\n      <td>High rating</td>\n    </tr>\n  </tbody>\n</table>\n</div>"
     },
     "execution_count": 19,
     "metadata": {},
     "output_type": "execute_result"
    }
   ],
   "source": [
    "def define_categorical_rating(row):\n",
    "    if row >= 4.5:\n",
    "        return 'High rating'\n",
    "    elif row >= 3.8 and row < 4.5:\n",
    "        return 'Middle rating'\n",
    "    else:\n",
    "        return 'Low rating'\n",
    "    \n",
    "    \n",
    "df['categorical_rating'] = df['rating'].apply(define_categorical_rating)\n",
    "\n",
    "df.sample(5)"
   ],
   "metadata": {
    "collapsed": false,
    "ExecuteTime": {
     "end_time": "2024-05-29T14:34:34.626601Z",
     "start_time": "2024-05-29T14:34:34.610557Z"
    }
   },
   "execution_count": 19
  },
  {
   "cell_type": "markdown",
   "source": [
    "Решим прошлую задачу, но вместо функции `def` используем лямбда-функцию внутри `apply()`."
   ],
   "metadata": {
    "collapsed": false
   }
  },
  {
   "cell_type": "code",
   "outputs": [
    {
     "data": {
      "text/plain": "                                             app  category  rating  reviews  \\\n6454                              BatControl Pro     TOOLS     4.9       83   \n6839                              Kick the Buddy      GAME     4.3  1004709   \n1121  MileIQ - Free Mileage Tracker for Business   FINANCE     4.5    46106   \n5757                              AirWatch Agent  BUSINESS     3.1    20973   \n5454                                  AP Planner    FAMILY     2.9       45   \n\n                    size     installs  type  price content_rating     genres  \\\n6454                3.1M         500+  Paid   3.99       Everyone      Tools   \n6839  Varies with device  50,000,000+  Free   0.00           Teen     Action   \n1121                 22M   1,000,000+  Free   0.00       Everyone    Finance   \n5757                 31M   5,000,000+  Free   0.00       Everyone   Business   \n5454                1.3M       5,000+  Free   0.00       Everyone  Education   \n\n        last_updated         current_ver android_ver categorical_rating  \n6454    June 1, 2018               2.0.0  5.0 and up        High rating  \n6839    July 5, 2018  Varies with device  4.4 and up      Middle rating  \n1121   July 31, 2018         1.28.0.5402  4.4 and up        High rating  \n5757  August 1, 2018            8.2.0.84  4.0 and up         Low rating  \n5454  August 3, 2015                 1.1  2.1 and up         Low rating  ",
      "text/html": "<div>\n<style scoped>\n    .dataframe tbody tr th:only-of-type {\n        vertical-align: middle;\n    }\n\n    .dataframe tbody tr th {\n        vertical-align: top;\n    }\n\n    .dataframe thead th {\n        text-align: right;\n    }\n</style>\n<table border=\"1\" class=\"dataframe\">\n  <thead>\n    <tr style=\"text-align: right;\">\n      <th></th>\n      <th>app</th>\n      <th>category</th>\n      <th>rating</th>\n      <th>reviews</th>\n      <th>size</th>\n      <th>installs</th>\n      <th>type</th>\n      <th>price</th>\n      <th>content_rating</th>\n      <th>genres</th>\n      <th>last_updated</th>\n      <th>current_ver</th>\n      <th>android_ver</th>\n      <th>categorical_rating</th>\n    </tr>\n  </thead>\n  <tbody>\n    <tr>\n      <th>6454</th>\n      <td>BatControl Pro</td>\n      <td>TOOLS</td>\n      <td>4.9</td>\n      <td>83</td>\n      <td>3.1M</td>\n      <td>500+</td>\n      <td>Paid</td>\n      <td>3.99</td>\n      <td>Everyone</td>\n      <td>Tools</td>\n      <td>June 1, 2018</td>\n      <td>2.0.0</td>\n      <td>5.0 and up</td>\n      <td>High rating</td>\n    </tr>\n    <tr>\n      <th>6839</th>\n      <td>Kick the Buddy</td>\n      <td>GAME</td>\n      <td>4.3</td>\n      <td>1004709</td>\n      <td>Varies with device</td>\n      <td>50,000,000+</td>\n      <td>Free</td>\n      <td>0.00</td>\n      <td>Teen</td>\n      <td>Action</td>\n      <td>July 5, 2018</td>\n      <td>Varies with device</td>\n      <td>4.4 and up</td>\n      <td>Middle rating</td>\n    </tr>\n    <tr>\n      <th>1121</th>\n      <td>MileIQ - Free Mileage Tracker for Business</td>\n      <td>FINANCE</td>\n      <td>4.5</td>\n      <td>46106</td>\n      <td>22M</td>\n      <td>1,000,000+</td>\n      <td>Free</td>\n      <td>0.00</td>\n      <td>Everyone</td>\n      <td>Finance</td>\n      <td>July 31, 2018</td>\n      <td>1.28.0.5402</td>\n      <td>4.4 and up</td>\n      <td>High rating</td>\n    </tr>\n    <tr>\n      <th>5757</th>\n      <td>AirWatch Agent</td>\n      <td>BUSINESS</td>\n      <td>3.1</td>\n      <td>20973</td>\n      <td>31M</td>\n      <td>5,000,000+</td>\n      <td>Free</td>\n      <td>0.00</td>\n      <td>Everyone</td>\n      <td>Business</td>\n      <td>August 1, 2018</td>\n      <td>8.2.0.84</td>\n      <td>4.0 and up</td>\n      <td>Low rating</td>\n    </tr>\n    <tr>\n      <th>5454</th>\n      <td>AP Planner</td>\n      <td>FAMILY</td>\n      <td>2.9</td>\n      <td>45</td>\n      <td>1.3M</td>\n      <td>5,000+</td>\n      <td>Free</td>\n      <td>0.00</td>\n      <td>Everyone</td>\n      <td>Education</td>\n      <td>August 3, 2015</td>\n      <td>1.1</td>\n      <td>2.1 and up</td>\n      <td>Low rating</td>\n    </tr>\n  </tbody>\n</table>\n</div>"
     },
     "execution_count": 20,
     "metadata": {},
     "output_type": "execute_result"
    }
   ],
   "source": [
    "# Удалим старый столбец categorical_rating\n",
    "df.drop('categorical_rating', axis=1, inplace=True)\n",
    "\n",
    "# Решим прошлую задачу, используя лямбда-функцию\n",
    "df['categorical_rating'] = df['rating'].apply(lambda row: 'High rating' if row >= 4.5 else ('Middle rating' if row >= 3.8 and row < 4.5 else 'Low rating'))\n",
    "\n",
    "df.sample(5)"
   ],
   "metadata": {
    "collapsed": false,
    "ExecuteTime": {
     "end_time": "2024-05-29T14:34:34.732730Z",
     "start_time": "2024-05-29T14:34:34.715499Z"
    }
   },
   "execution_count": 20
  },
  {
   "cell_type": "markdown",
   "source": [
    "Выведем количество уникальных значений в столбцах, отсортированных по убыванию на экран."
   ],
   "metadata": {
    "collapsed": false
   }
  },
  {
   "cell_type": "code",
   "outputs": [
    {
     "data": {
      "text/plain": "app                   9648\nreviews               5999\ncurrent_ver           2831\nlast_updated          1376\nsize                   457\ngenres                 119\nprice                   92\nrating                  39\ncategory                33\nandroid_ver             33\ninstalls                20\ncontent_rating           6\ncategorical_rating       3\ntype                     2\ndtype: int64"
     },
     "execution_count": 21,
     "metadata": {},
     "output_type": "execute_result"
    }
   ],
   "source": [
    "df.nunique().sort_values(ascending=False)"
   ],
   "metadata": {
    "collapsed": false,
    "ExecuteTime": {
     "end_time": "2024-05-29T14:34:35.033848Z",
     "start_time": "2024-05-29T14:34:35.021087Z"
    }
   },
   "execution_count": 21
  },
  {
   "cell_type": "markdown",
   "source": [
    "Используем метод `transform()`, который предназначен для выполнения групповых операций на уровне столбцов и возвращает результат преобразования с той же размерностью, что и исходный DataFrame. Применим метод к DataFrame, предварительно сгруппированному по столбцу `category`, чтобы найти средний `rating` для каждой категории и записать результат в столбец с названием `mean_cat_rating`."
   ],
   "metadata": {
    "collapsed": false
   }
  },
  {
   "cell_type": "code",
   "outputs": [
    {
     "data": {
      "text/plain": "                                                    app             category  \\\n1661                                         Helix Jump                 GAME   \n3844                             Sentin Information Map  MAPS_AND_NAVIGATION   \n7322  Ultimate Public Campgrounds (Over 37,100 in US...     TRAVEL_AND_LOCAL   \n9667  Masha and The Bear Jam Day Match 3 games for kids               FAMILY   \n8456                3D DJ – Music Mixer with Virtual DJ               FAMILY   \n\n      rating  reviews  size      installs  type  price content_rating  \\\n1661     4.2  1497361   33M  100,000,000+  Free   0.00       Everyone   \n3844     4.1     2909  5.2M      100,000+  Free   0.00       Everyone   \n7322     4.7      213  6.1M        5,000+  Paid   3.99       Everyone   \n9667     4.6    50060   98M    1,000,000+  Free   0.00       Everyone   \n8456     4.3      796   28M      100,000+  Free   0.00       Everyone   \n\n                  genres    last_updated current_ver android_ver  \\\n1661              Action   April 9, 2018       1.0.6  4.1 and up   \n3844   Maps & Navigation   June 26, 2018        1.39  4.1 and up   \n7322      Travel & Local  August 5, 2018     1.8.8.0  4.4 and up   \n9667  Puzzle;Brain Games  August 7, 2018      1.4.83  4.1 and up   \n8456       Entertainment    July 3, 2018       6.6.8  5.0 and up   \n\n     categorical_rating  mean_cat_rating  \n1661      Middle rating             4.28  \n3844      Middle rating             4.08  \n7322        High rating             4.12  \n9667        High rating             4.20  \n8456      Middle rating             4.20  ",
      "text/html": "<div>\n<style scoped>\n    .dataframe tbody tr th:only-of-type {\n        vertical-align: middle;\n    }\n\n    .dataframe tbody tr th {\n        vertical-align: top;\n    }\n\n    .dataframe thead th {\n        text-align: right;\n    }\n</style>\n<table border=\"1\" class=\"dataframe\">\n  <thead>\n    <tr style=\"text-align: right;\">\n      <th></th>\n      <th>app</th>\n      <th>category</th>\n      <th>rating</th>\n      <th>reviews</th>\n      <th>size</th>\n      <th>installs</th>\n      <th>type</th>\n      <th>price</th>\n      <th>content_rating</th>\n      <th>genres</th>\n      <th>last_updated</th>\n      <th>current_ver</th>\n      <th>android_ver</th>\n      <th>categorical_rating</th>\n      <th>mean_cat_rating</th>\n    </tr>\n  </thead>\n  <tbody>\n    <tr>\n      <th>1661</th>\n      <td>Helix Jump</td>\n      <td>GAME</td>\n      <td>4.2</td>\n      <td>1497361</td>\n      <td>33M</td>\n      <td>100,000,000+</td>\n      <td>Free</td>\n      <td>0.00</td>\n      <td>Everyone</td>\n      <td>Action</td>\n      <td>April 9, 2018</td>\n      <td>1.0.6</td>\n      <td>4.1 and up</td>\n      <td>Middle rating</td>\n      <td>4.28</td>\n    </tr>\n    <tr>\n      <th>3844</th>\n      <td>Sentin Information Map</td>\n      <td>MAPS_AND_NAVIGATION</td>\n      <td>4.1</td>\n      <td>2909</td>\n      <td>5.2M</td>\n      <td>100,000+</td>\n      <td>Free</td>\n      <td>0.00</td>\n      <td>Everyone</td>\n      <td>Maps &amp; Navigation</td>\n      <td>June 26, 2018</td>\n      <td>1.39</td>\n      <td>4.1 and up</td>\n      <td>Middle rating</td>\n      <td>4.08</td>\n    </tr>\n    <tr>\n      <th>7322</th>\n      <td>Ultimate Public Campgrounds (Over 37,100 in US...</td>\n      <td>TRAVEL_AND_LOCAL</td>\n      <td>4.7</td>\n      <td>213</td>\n      <td>6.1M</td>\n      <td>5,000+</td>\n      <td>Paid</td>\n      <td>3.99</td>\n      <td>Everyone</td>\n      <td>Travel &amp; Local</td>\n      <td>August 5, 2018</td>\n      <td>1.8.8.0</td>\n      <td>4.4 and up</td>\n      <td>High rating</td>\n      <td>4.12</td>\n    </tr>\n    <tr>\n      <th>9667</th>\n      <td>Masha and The Bear Jam Day Match 3 games for kids</td>\n      <td>FAMILY</td>\n      <td>4.6</td>\n      <td>50060</td>\n      <td>98M</td>\n      <td>1,000,000+</td>\n      <td>Free</td>\n      <td>0.00</td>\n      <td>Everyone</td>\n      <td>Puzzle;Brain Games</td>\n      <td>August 7, 2018</td>\n      <td>1.4.83</td>\n      <td>4.1 and up</td>\n      <td>High rating</td>\n      <td>4.20</td>\n    </tr>\n    <tr>\n      <th>8456</th>\n      <td>3D DJ – Music Mixer with Virtual DJ</td>\n      <td>FAMILY</td>\n      <td>4.3</td>\n      <td>796</td>\n      <td>28M</td>\n      <td>100,000+</td>\n      <td>Free</td>\n      <td>0.00</td>\n      <td>Everyone</td>\n      <td>Entertainment</td>\n      <td>July 3, 2018</td>\n      <td>6.6.8</td>\n      <td>5.0 and up</td>\n      <td>Middle rating</td>\n      <td>4.20</td>\n    </tr>\n  </tbody>\n</table>\n</div>"
     },
     "execution_count": 22,
     "metadata": {},
     "output_type": "execute_result"
    }
   ],
   "source": [
    "df['mean_cat_rating'] = df.groupby('category')['rating'].transform('mean').round(2)\n",
    "\n",
    "df.sample(5)"
   ],
   "metadata": {
    "collapsed": false,
    "ExecuteTime": {
     "end_time": "2024-05-29T14:34:35.228639Z",
     "start_time": "2024-05-29T14:34:35.208053Z"
    }
   },
   "execution_count": 22
  },
  {
   "cell_type": "markdown",
   "source": [
    "Создадим функцию, которая будет применена к столбцу `last_updated` и возвращать из него число месяца. Если число месяца вернуть из строки невозможно, то вернем вместо этого строку с названием `miss_date`. Запишем полученный столбец в датафрейм, название столбцу дадим `day_of_update`."
   ],
   "metadata": {
    "collapsed": false
   }
  },
  {
   "cell_type": "code",
   "outputs": [
    {
     "data": {
      "text/plain": "                                      app   category  rating  reviews  \\\n9509            Meslek Lisesi YGS Ek Puan     FAMILY     4.3       11   \n1601         Vaniday - Beauty Booking App  LIFESTYLE     3.6     1067   \n10758  Modern Counter Terrorist FPS Shoot       GAME     4.0      795   \n1561                            metroZONE  LIFESTYLE     4.1    47497   \n4703                               v-view     FAMILY     3.6      309   \n\n                     size     installs  type  price content_rating  \\\n9509                 1.5M       1,000+  Free    0.0       Everyone   \n1601   Varies with device     100,000+  Free    0.0       Everyone   \n10758                 41M     100,000+  Free    0.0           Teen   \n1561                  34M  10,000,000+  Free    0.0       Everyone   \n4703                  19M      10,000+  Free    0.0       Everyone   \n\n              genres     last_updated current_ver android_ver  \\\n9509       Education  January 8, 2017         1.0  4.0 and up   \n1601       Lifestyle   March 20, 2018      3.8.15  4.1 and up   \n10758         Action  August 29, 2017         1.2  2.3 and up   \n1561       Lifestyle     June 8, 2018  5.3.0.54.7  5.0 and up   \n4703   Entertainment    June 22, 2017  1.1.0.0402  4.2 and up   \n\n      categorical_rating  mean_cat_rating  day_of_update  \n9509       Middle rating             4.20              8  \n1601          Low rating             4.13             20  \n10758      Middle rating             4.28             29  \n1561       Middle rating             4.13              8  \n4703          Low rating             4.20             22  ",
      "text/html": "<div>\n<style scoped>\n    .dataframe tbody tr th:only-of-type {\n        vertical-align: middle;\n    }\n\n    .dataframe tbody tr th {\n        vertical-align: top;\n    }\n\n    .dataframe thead th {\n        text-align: right;\n    }\n</style>\n<table border=\"1\" class=\"dataframe\">\n  <thead>\n    <tr style=\"text-align: right;\">\n      <th></th>\n      <th>app</th>\n      <th>category</th>\n      <th>rating</th>\n      <th>reviews</th>\n      <th>size</th>\n      <th>installs</th>\n      <th>type</th>\n      <th>price</th>\n      <th>content_rating</th>\n      <th>genres</th>\n      <th>last_updated</th>\n      <th>current_ver</th>\n      <th>android_ver</th>\n      <th>categorical_rating</th>\n      <th>mean_cat_rating</th>\n      <th>day_of_update</th>\n    </tr>\n  </thead>\n  <tbody>\n    <tr>\n      <th>9509</th>\n      <td>Meslek Lisesi YGS Ek Puan</td>\n      <td>FAMILY</td>\n      <td>4.3</td>\n      <td>11</td>\n      <td>1.5M</td>\n      <td>1,000+</td>\n      <td>Free</td>\n      <td>0.0</td>\n      <td>Everyone</td>\n      <td>Education</td>\n      <td>January 8, 2017</td>\n      <td>1.0</td>\n      <td>4.0 and up</td>\n      <td>Middle rating</td>\n      <td>4.20</td>\n      <td>8</td>\n    </tr>\n    <tr>\n      <th>1601</th>\n      <td>Vaniday - Beauty Booking App</td>\n      <td>LIFESTYLE</td>\n      <td>3.6</td>\n      <td>1067</td>\n      <td>Varies with device</td>\n      <td>100,000+</td>\n      <td>Free</td>\n      <td>0.0</td>\n      <td>Everyone</td>\n      <td>Lifestyle</td>\n      <td>March 20, 2018</td>\n      <td>3.8.15</td>\n      <td>4.1 and up</td>\n      <td>Low rating</td>\n      <td>4.13</td>\n      <td>20</td>\n    </tr>\n    <tr>\n      <th>10758</th>\n      <td>Modern Counter Terrorist FPS Shoot</td>\n      <td>GAME</td>\n      <td>4.0</td>\n      <td>795</td>\n      <td>41M</td>\n      <td>100,000+</td>\n      <td>Free</td>\n      <td>0.0</td>\n      <td>Teen</td>\n      <td>Action</td>\n      <td>August 29, 2017</td>\n      <td>1.2</td>\n      <td>2.3 and up</td>\n      <td>Middle rating</td>\n      <td>4.28</td>\n      <td>29</td>\n    </tr>\n    <tr>\n      <th>1561</th>\n      <td>metroZONE</td>\n      <td>LIFESTYLE</td>\n      <td>4.1</td>\n      <td>47497</td>\n      <td>34M</td>\n      <td>10,000,000+</td>\n      <td>Free</td>\n      <td>0.0</td>\n      <td>Everyone</td>\n      <td>Lifestyle</td>\n      <td>June 8, 2018</td>\n      <td>5.3.0.54.7</td>\n      <td>5.0 and up</td>\n      <td>Middle rating</td>\n      <td>4.13</td>\n      <td>8</td>\n    </tr>\n    <tr>\n      <th>4703</th>\n      <td>v-view</td>\n      <td>FAMILY</td>\n      <td>3.6</td>\n      <td>309</td>\n      <td>19M</td>\n      <td>10,000+</td>\n      <td>Free</td>\n      <td>0.0</td>\n      <td>Everyone</td>\n      <td>Entertainment</td>\n      <td>June 22, 2017</td>\n      <td>1.1.0.0402</td>\n      <td>4.2 and up</td>\n      <td>Low rating</td>\n      <td>4.20</td>\n      <td>22</td>\n    </tr>\n  </tbody>\n</table>\n</div>"
     },
     "execution_count": 23,
     "metadata": {},
     "output_type": "execute_result"
    }
   ],
   "source": [
    "def define_day_of_update(date):\n",
    "    day = '' # Создаем пустую строку, в которой будет храниться в дальнейшем число месяца\n",
    "    try:\n",
    "        for s in date.split(',')[0]: # В цикле проходим по строке date, ограниченной запятой справа (так как справа пишется год, он нам не нужен)\n",
    "            day += (s if s.isdigit() else '') # Если в строке содержится цифра, добавляем ее в строку day, иначе пустую строку\n",
    "        return int(day) # Возвращаем число месяца\n",
    "    except:\n",
    "        return 'miss_date' # Если в ходе извлечения числа месяца из строки date возникает ошибка, то возвращаем строку miss_date\n",
    "        \n",
    "\n",
    "df['day_of_update'] = df['last_updated'].apply(define_day_of_update)\n",
    "\n",
    "df.sample(5)"
   ],
   "metadata": {
    "collapsed": false,
    "ExecuteTime": {
     "end_time": "2024-05-29T14:34:35.490277Z",
     "start_time": "2024-05-29T14:34:35.462430Z"
    }
   },
   "execution_count": 23
  }
 ],
 "metadata": {
  "kernelspec": {
   "display_name": "Python 3",
   "language": "python",
   "name": "python3"
  },
  "language_info": {
   "codemirror_mode": {
    "name": "ipython",
    "version": 3
   },
   "file_extension": ".py",
   "mimetype": "text/x-python",
   "name": "python",
   "nbconvert_exporter": "python",
   "pygments_lexer": "ipython3",
   "version": "3.11.4"
  },
  "orig_nbformat": 4,
  "colab": {
   "provenance": []
  }
 },
 "nbformat": 4,
 "nbformat_minor": 0
}
